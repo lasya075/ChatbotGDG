{
 "cells": [
  {
   "cell_type": "code",
   "execution_count": 1,
   "id": "f6126f66",
   "metadata": {},
   "outputs": [
    {
     "name": "stderr",
     "output_type": "stream",
     "text": [
      "/Users/shivalasya/anaconda3/envs/chatbot_env/lib/python3.10/site-packages/tqdm/auto.py:21: TqdmWarning: IProgress not found. Please update jupyter and ipywidgets. See https://ipywidgets.readthedocs.io/en/stable/user_install.html\n",
      "  from .autonotebook import tqdm as notebook_tqdm\n"
     ]
    }
   ],
   "source": [
    "from langchain.vectorstores import FAISS \n",
    "from embeddings import CodeBERTEmbedder\n",
    "from vectorstore import VectorStore\n",
    "from retriever import RAGRetriever\n",
    "from chatbot import CPChatbot"
   ]
  },
  {
   "cell_type": "code",
   "execution_count": null,
   "id": "c7300fcd",
   "metadata": {},
   "outputs": [],
   "source": [
    "\n",
    "!pip install -q faiss-cpu\n",
    "!pip install -q langchain_community\n",
    "!pip install -q langchain-huggingface\n"
   ]
  },
  {
   "cell_type": "code",
   "execution_count": 3,
   "id": "181da83a",
   "metadata": {},
   "outputs": [],
   "source": [
    "emb=CodeBERTEmbedder()"
   ]
  },
  {
   "cell_type": "code",
   "execution_count": 4,
   "id": "7e6f9061",
   "metadata": {},
   "outputs": [],
   "source": [
    "from langchain_huggingface import HuggingFaceEmbeddings\n",
    "# Instead of assigning to `model`, use `model_name`\n",
    "embedder = HuggingFaceEmbeddings(\n",
    "    model_name=\"sentence-transformers/all-mpnet-base-v2\",\n",
    ")"
   ]
  },
  {
   "cell_type": "code",
   "execution_count": 5,
   "id": "381910dd",
   "metadata": {},
   "outputs": [],
   "source": [
    "vector_store = VectorStore()"
   ]
  },
  {
   "cell_type": "code",
   "execution_count": 6,
   "id": "87840c15",
   "metadata": {},
   "outputs": [],
   "source": [
    "retriever = RAGRetriever(embedder, vector_store)"
   ]
  },
  {
   "cell_type": "code",
   "execution_count": 7,
   "id": "9b650b2e",
   "metadata": {},
   "outputs": [],
   "source": [
    "\n",
    "system_message = \"You are helping with competitive programming problem solutions.\""
   ]
  },
  {
   "cell_type": "code",
   "execution_count": null,
   "id": "d9ffbe25",
   "metadata": {},
   "outputs": [],
   "source": [
    "chtbot=CPChatbot(retriever,system_message)"
   ]
  },
  {
   "cell_type": "code",
   "execution_count": 11,
   "id": "4c2f6935",
   "metadata": {},
   "outputs": [
    {
     "name": "stdout",
     "output_type": "stream",
     "text": [
      "System Message: You are helping with competitive programming problem solutions.\n",
      "\n",
      "Retrieved Documents:\n",
      "It is guaranteed that the sum of n across all test cases does not exceed 2 · 10^5.\n",
      "\n",
      "For each test case, output a single integer — the minimum number of operations required to turn the string s into an alternating one.\n",
      "\n",
      "For the string ababa , you can delete the first character to get baba , which is an alternating string.\n",
      "The first line contains a single integer t (1 ≤ t ≤ 10^4)  — the number of test cases.\n",
      "\n",
      "The first line of each test case contains a single number n (1 ≤ n≤ 2· 10^5)  — the length of the string.\n",
      "\n",
      "The second line of each test case contains a string s, consisting of lowercase Latin letters.\n",
      "\n",
      "It is guaranteed that the sum of n across all test cases does not exceed 2 · 10^5.\n",
      "int main()\n",
      "{\n",
      "    int t;\n",
      "    cin>>t;\n",
      "    while(t--)\n",
      "    {\n",
      "        int n;\n",
      "        cin>>n;\n",
      "        string s;\n",
      "        cin>>s;\n",
      "        int res=s.size();\n",
      "        if(n%2==0)\n",
      "        {\n",
      "            vector<int>v[2]={vector<int>(26),vector<int>(26)};\n",
      "            for(int i=0;i<n;i++)\n",
      "            {\n",
      "                v[i%2][s[i]-'a']++;\n",
      "            }\n",
      "            for(int i=0;i<2;i++)\n",
      "            {\n",
      "}\n",
      "            for(int i=0;i<n;i++)\n",
      "            {\n",
      "                suf[i%2][s[i]-'a']--;\n",
      "                int ans=n;\n",
      "                for(int k=0;k<2;k++)\n",
      "                {\n",
      "                    int mx=0;\n",
      "                    for(int j=0;j<26;j++)\n",
      "                    {\n",
      "                        mx=max(mx,suf[1-k][j]+pref[k][j]);\n",
      "                    }\n",
      "                    ans-=mx;\n"
     ]
    },
    {
     "name": "stderr",
     "output_type": "stream",
     "text": [
      "Token indices sequence length is longer than the specified maximum sequence length for this model (517 > 512). Running this sequence through the model will result in indexing errors\n"
     ]
    },
    {
     "name": "stdout",
     "output_type": "stream",
     "text": [
      "\n",
      "Final Answer:\n",
      "{'question': 'How do I solve problem E from Contest#2008?', 'chat_history': [HumanMessage(content='Explain problem C from contest 2008', additional_kwargs={}, response_metadata={}), AIMessage(content=\"for _ in range(int(input())): n = int(input()) s = input() c = 0 for i in range(n): if s[i] == 'a': c += 1 if c == 0: c += 1 if c == 0: c += 1 if c == 0: c += 1 if c == 0: c += 1 if c == 0: c += 1 if c == 0: c += 1 if c == 0: c += 1 if c == 0: c += 1 if c == 0: c += 1 if c == 0: c += 1 if c == 0: c += 1 if c == 0: c += 1 if c == 0: c += 1 if c == 0: c\", additional_kwargs={}, response_metadata={}), HumanMessage(content='Explain problem E from contest 2008', additional_kwargs={}, response_metadata={}), AIMessage(content='ab is a b', additional_kwargs={}, response_metadata={}), HumanMessage(content='How do I solve problem E from Contest#2008?', additional_kwargs={}, response_metadata={}), AIMessage(content=\"for _ in range(int(input())): n = int(input()) s = input() cin>>s = 0 cin>>s = 0 for i in range(n): if s[i] == 'a': cin>>s = s[i] - 'a' cin>>s = s[i] - 'a' cin>>s = s[i] - 'a' cin>>s = s[i] - 'a' cin>>s = s[i] - 'a' cin>>s = s[i] - 'a' cin>>s = s[i] - 'a' cin>>s = s[i] - 'a' cin>>s = s[i] - 'a' cin>>s = s[i] - 'a' cin>>\", additional_kwargs={}, response_metadata={})], 'answer': \"for _ in range(int(input())): n = int(input()) s = input() cin>>s = 0 cin>>s = 0 for i in range(n): if s[i] == 'a': cin>>s = s[i] - 'a' cin>>s = s[i] - 'a' cin>>s = s[i] - 'a' cin>>s = s[i] - 'a' cin>>s = s[i] - 'a' cin>>s = s[i] - 'a' cin>>s = s[i] - 'a' cin>>s = s[i] - 'a' cin>>s = s[i] - 'a' cin>>s = s[i] - 'a' cin>>\"}\n",
      "Chatbot Response: {'question': 'How do I solve problem E from Contest#2008?', 'chat_history': [HumanMessage(content='Explain problem C from contest 2008', additional_kwargs={}, response_metadata={}), AIMessage(content=\"for _ in range(int(input())): n = int(input()) s = input() c = 0 for i in range(n): if s[i] == 'a': c += 1 if c == 0: c += 1 if c == 0: c += 1 if c == 0: c += 1 if c == 0: c += 1 if c == 0: c += 1 if c == 0: c += 1 if c == 0: c += 1 if c == 0: c += 1 if c == 0: c += 1 if c == 0: c += 1 if c == 0: c += 1 if c == 0: c += 1 if c == 0: c += 1 if c == 0: c\", additional_kwargs={}, response_metadata={}), HumanMessage(content='Explain problem E from contest 2008', additional_kwargs={}, response_metadata={}), AIMessage(content='ab is a b', additional_kwargs={}, response_metadata={}), HumanMessage(content='How do I solve problem E from Contest#2008?', additional_kwargs={}, response_metadata={}), AIMessage(content=\"for _ in range(int(input())): n = int(input()) s = input() cin>>s = 0 cin>>s = 0 for i in range(n): if s[i] == 'a': cin>>s = s[i] - 'a' cin>>s = s[i] - 'a' cin>>s = s[i] - 'a' cin>>s = s[i] - 'a' cin>>s = s[i] - 'a' cin>>s = s[i] - 'a' cin>>s = s[i] - 'a' cin>>s = s[i] - 'a' cin>>s = s[i] - 'a' cin>>s = s[i] - 'a' cin>>\", additional_kwargs={}, response_metadata={})], 'answer': \"for _ in range(int(input())): n = int(input()) s = input() cin>>s = 0 cin>>s = 0 for i in range(n): if s[i] == 'a': cin>>s = s[i] - 'a' cin>>s = s[i] - 'a' cin>>s = s[i] - 'a' cin>>s = s[i] - 'a' cin>>s = s[i] - 'a' cin>>s = s[i] - 'a' cin>>s = s[i] - 'a' cin>>s = s[i] - 'a' cin>>s = s[i] - 'a' cin>>s = s[i] - 'a' cin>>\"}\n"
     ]
    }
   ],
   "source": [
    "query = \"How do I solve problem E from Contest#2008?\"\n",
    "response = chtbot.chat(query)\n",
    "print(f\"Chatbot Response: {response}\")"
   ]
  }
 ],
 "metadata": {
  "kernelspec": {
   "display_name": "chatbot_env",
   "language": "python",
   "name": "python3"
  },
  "language_info": {
   "codemirror_mode": {
    "name": "ipython",
    "version": 3
   },
   "file_extension": ".py",
   "mimetype": "text/x-python",
   "name": "python",
   "nbconvert_exporter": "python",
   "pygments_lexer": "ipython3",
   "version": "3.10.16"
  }
 },
 "nbformat": 4,
 "nbformat_minor": 5
}
